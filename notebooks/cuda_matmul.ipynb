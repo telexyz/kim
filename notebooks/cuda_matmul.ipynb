{
  "cells": [
    {
      "cell_type": "code",
      "execution_count": null,
      "metadata": {
        "id": "oIQD2NfHV8VU"
      },
      "outputs": [],
      "source": [
        "!git clone https://github.com/telexyz/kim.git\n",
        "%cd kim\n",
        "!pip3 install --upgrade --no-deps git+https://github.com/dlsys10714/mugrade.git\n",
        "!pip3 install pytest numpy numdifftools pybind11 requests\n",
        "# !nvidia-smi"
      ]
    },
    {
      "cell_type": "code",
      "execution_count": null,
      "metadata": {
        "id": "rZyuCtgi0v_X"
      },
      "outputs": [],
      "source": [
        "!git pull\n",
        "!make && python3 -m pytest -v -k \"matmul and cuda\""
      ]
    },
    {
      "cell_type": "markdown",
      "source": [
        "## Cuda MatMul Performance"
      ],
      "metadata": {
        "id": "o4ZFLWYCfHWB"
      }
    },
    {
      "cell_type": "code",
      "source": [
        "import numpy as np\n",
        "import torch\n",
        "from kim import backend_ndarray as nd\n",
        "k = 2**11\n",
        "# numpy matmul\n",
        "A_np = np.random.randn(k, k)\n",
        "B_np = np.random.randn(k, k)\n",
        "# cpu matmul\n",
        "A_cpu = nd.array(A_np, device=nd.cpu())\n",
        "B_cpu = nd.array(B_np, device=nd.cpu())\n",
        "# cuda simple matmul\n",
        "A_cuda_simple = nd.array(A_np[:-2,:-2], device=nd.cuda())\n",
        "B_cuda_simple = nd.array(B_np[:-2,:-2], device=nd.cuda())\n",
        "# cuda shared mememory tiled matmul\n",
        "A_cuda_best = nd.array(A_np, device=nd.cuda())\n",
        "B_cuda_best = nd.array(B_np, device=nd.cuda())\n",
        "## torch\n",
        "A_torch = torch.tensor(A_np)\n",
        "B_torch = torch.tensor(B_np)"
      ],
      "metadata": {
        "id": "bdOWPgyfY_hp"
      },
      "execution_count": 26,
      "outputs": []
    },
    {
      "cell_type": "code",
      "source": [
        "%%timeit\n",
        "A_np @ B_np"
      ],
      "metadata": {
        "colab": {
          "base_uri": "https://localhost:8080/"
        },
        "id": "vq_CIsvMganx",
        "outputId": "0e896090-ab5c-4e4a-a402-8c5523b1a13c"
      },
      "execution_count": 18,
      "outputs": [
        {
          "output_type": "stream",
          "name": "stdout",
          "text": [
            "554 ms ± 92.6 ms per loop (mean ± std. dev. of 7 runs, 1 loop each)\n"
          ]
        }
      ]
    },
    {
      "cell_type": "code",
      "source": [
        "%%timeit\n",
        "A_cuda_simple @ B_cuda_simple"
      ],
      "metadata": {
        "colab": {
          "base_uri": "https://localhost:8080/"
        },
        "id": "OJRYOTzEcZ59",
        "outputId": "bff7b490-7a96-4de3-e55c-da5765ca97a0"
      },
      "execution_count": 23,
      "outputs": [
        {
          "output_type": "stream",
          "name": "stdout",
          "text": [
            "98.6 ms ± 2.2 ms per loop (mean ± std. dev. of 7 runs, 10 loops each)\n"
          ]
        }
      ]
    },
    {
      "cell_type": "code",
      "source": [
        "%%timeit\n",
        "A_cuda_best @ B_cuda_best"
      ],
      "metadata": {
        "colab": {
          "base_uri": "https://localhost:8080/"
        },
        "id": "fxKbU9VYhaEP",
        "outputId": "3c135cb5-5d3f-4f5c-aba6-11cd13afbf11"
      },
      "execution_count": 31,
      "outputs": [
        {
          "output_type": "stream",
          "name": "stdout",
          "text": [
            "12.1 ms ± 93.4 µs per loop (mean ± std. dev. of 7 runs, 100 loops each)\n"
          ]
        }
      ]
    },
    {
      "cell_type": "code",
      "source": [
        "%%timeit\n",
        "torch.cuda.FloatTensor(k, k) @ torch.cuda.FloatTensor(k, k)"
      ],
      "metadata": {
        "colab": {
          "base_uri": "https://localhost:8080/"
        },
        "id": "b6PwNI4lh-uW",
        "outputId": "6295cbd1-b153-438d-ca1f-4edff12c5e5d"
      },
      "execution_count": 32,
      "outputs": [
        {
          "output_type": "stream",
          "name": "stdout",
          "text": [
            "3.43 ms ± 26.6 µs per loop (mean ± std. dev. of 7 runs, 1000 loops each)\n"
          ]
        }
      ]
    }
  ],
  "metadata": {
    "accelerator": "GPU",
    "colab": {
      "collapsed_sections": [],
      "provenance": []
    },
    "gpuClass": "standard",
    "kernelspec": {
      "display_name": "Python 3",
      "name": "python3"
    },
    "language_info": {
      "name": "python"
    }
  },
  "nbformat": 4,
  "nbformat_minor": 0
}