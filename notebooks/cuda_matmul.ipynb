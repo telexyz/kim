{
  "cells": [
    {
      "cell_type": "code",
      "execution_count": null,
      "metadata": {
        "id": "oIQD2NfHV8VU"
      },
      "outputs": [],
      "source": [
        "!git clone https://github.com/telexyz/kim.git\n",
        "%cd kim\n",
        "!pip3 install --upgrade --no-deps git+https://github.com/dlsys10714/mugrade.git\n",
        "!pip3 install pytest numpy numdifftools pybind11 requests\n",
        "# !nvidia-smi"
      ]
    },
    {
      "cell_type": "code",
      "execution_count": null,
      "metadata": {
        "id": "rZyuCtgi0v_X"
      },
      "outputs": [],
      "source": [
        "!git pull\n",
        "!make && python3 -m pytest -v -k \"matmul and cuda\""
      ]
    },
    {
      "cell_type": "markdown",
      "source": [
        "## Cuda MatMul Performance"
      ],
      "metadata": {
        "id": "o4ZFLWYCfHWB"
      }
    },
    {
      "cell_type": "code",
      "source": [
        "import numpy as np\n",
        "import torch\n",
        "from kim import backend_ndarray as nd\n",
        "k = 2**11\n",
        "# numpy matmul\n",
        "A_np = np.random.randn(k, k)\n",
        "B_np = np.random.randn(k, k)\n",
        "# cpu matmul\n",
        "A_cpu = nd.array(A_np, device=nd.cpu())\n",
        "B_cpu = nd.array(B_np, device=nd.cpu())\n",
        "# cuda simple matmul\n",
        "A_cuda_simple = nd.array(A_np[:-2,:-2], device=nd.cuda())\n",
        "B_cuda_simple = nd.array(B_np[:-2,:-2], device=nd.cuda())\n",
        "# cuda shared mememory tiled matmul\n",
        "A_cuda_best = nd.array(A_np, device=nd.cuda())\n",
        "B_cuda_best = nd.array(B_np, device=nd.cuda())\n",
        "## torch\n",
        "A_torch = torch.tensor(A_np)\n",
        "B_torch = torch.tensor(B_np)"
      ],
      "metadata": {
        "id": "bdOWPgyfY_hp"
      },
      "execution_count": 26,
      "outputs": []
    },
    {
      "cell_type": "code",
      "source": [
        "%%timeit\n",
        "A_np @ B_np"
      ],
      "metadata": {
        "colab": {
          "base_uri": "https://localhost:8080/"
        },
        "id": "vq_CIsvMganx",
        "outputId": "0e896090-ab5c-4e4a-a402-8c5523b1a13c"
      },
      "execution_count": 18,
      "outputs": [
        {
          "output_type": "stream",
          "name": "stdout",
          "text": [
            "554 ms ± 92.6 ms per loop (mean ± std. dev. of 7 runs, 1 loop each)\n"
          ]
        }
      ]
    },
    {
      "cell_type": "code",
      "source": [
        "%%timeit\n",
        "A_cuda_simple @ B_cuda_simple"
      ],
      "metadata": {
        "colab": {
          "base_uri": "https://localhost:8080/"
        },
        "id": "OJRYOTzEcZ59",
        "outputId": "bff7b490-7a96-4de3-e55c-da5765ca97a0"
      },
      "execution_count": 23,
      "outputs": [
        {
          "output_type": "stream",
          "name": "stdout",
          "text": [
            "98.6 ms ± 2.2 ms per loop (mean ± std. dev. of 7 runs, 10 loops each)\n"
          ]
        }
      ]
    },
    {
      "cell_type": "code",
      "source": [
        "%%timeit\n",
        "A_cuda_best @ B_cuda_best"
      ],
      "metadata": {
        "colab": {
          "base_uri": "https://localhost:8080/"
        },
        "id": "fxKbU9VYhaEP",
        "outputId": "3c135cb5-5d3f-4f5c-aba6-11cd13afbf11"
      },
      "execution_count": 31,
      "outputs": [
        {
          "output_type": "stream",
          "name": "stdout",
          "text": [
            "12.1 ms ± 93.4 µs per loop (mean ± std. dev. of 7 runs, 100 loops each)\n"
          ]
        }
      ]
    },
    {
      "cell_type": "code",
      "source": [
        "%%timeit\n",
        "torch.cuda.FloatTensor(k, k) @ torch.cuda.FloatTensor(k, k)"
      ],
      "metadata": {
        "colab": {
          "base_uri": "https://localhost:8080/"
        },
        "id": "b6PwNI4lh-uW",
        "outputId": "6295cbd1-b153-438d-ca1f-4edff12c5e5d"
      },
      "execution_count": 32,
      "outputs": [
        {
          "output_type": "stream",
          "name": "stdout",
          "text": [
            "3.43 ms ± 26.6 µs per loop (mean ± std. dev. of 7 runs, 1000 loops each)\n"
          ]
        }
      ]
    },
    {
      "cell_type": "markdown",
      "source": [
        "## GAN\n",
        "https://github.com/dlsyscourse/public_notebooks/blob/main/17_generative_adversarial_networks_implementation.ipynb"
      ],
      "metadata": {
        "id": "TnFk1VnW6a8p"
      }
    },
    {
      "cell_type": "code",
      "source": [
        "import kim\n",
        "import numpy as np\n",
        "from kim import nn\n",
        "from kim import init\n",
        "from matplotlib import pyplot as plt"
      ],
      "metadata": {
        "id": "ALQDzcE05r7H"
      },
      "execution_count": 3,
      "outputs": []
    },
    {
      "cell_type": "code",
      "source": [
        "A = np.array([[1, 2], [-0.2, 0.5]]).astype(\"float32\")\n",
        "mu = np.array([2, 1]).astype(\"float32\")\n",
        "# total number of sample data to generated\n",
        "num_sample = 3200\n",
        "data = np.random.normal(0, 1, (num_sample, 2)).astype(\"float32\") @ A + mu"
      ],
      "metadata": {
        "id": "T_Slfqv2577j"
      },
      "execution_count": 4,
      "outputs": []
    },
    {
      "cell_type": "code",
      "source": [
        "plt.scatter(data[:,0], data[:,1], color=\"blue\", label=\"real data\")\n",
        "plt.legend()"
      ],
      "metadata": {
        "colab": {
          "base_uri": "https://localhost:8080/",
          "height": 283
        },
        "id": "Ysi_i7gB6ItR",
        "outputId": "8e7efece-dcaa-4f1c-fc87-93f657d53d31"
      },
      "execution_count": 5,
      "outputs": [
        {
          "output_type": "execute_result",
          "data": {
            "text/plain": [
              "<matplotlib.legend.Legend at 0x7fdc7ce95210>"
            ]
          },
          "metadata": {},
          "execution_count": 5
        },
        {
          "output_type": "display_data",
          "data": {
            "text/plain": [
              "<Figure size 432x288 with 1 Axes>"
            ],
            "image/png": "[encoded data removed]"
          },
          "metadata": {
            "needs_background": "light"
          }
        }
      ]
    },
    {
      "cell_type": "code",
      "source": [
        "model_G = nn.Sequential(nn.Linear(2, 2))\n",
        "\n",
        "def sample_G(model_G, num_samples):\n",
        "    Z = kim.Tensor(np.random.normal(0, 1, (num_samples, 2)).astype(\"float32\"))\n",
        "    fake_X = model_G(Z)\n",
        "    return fake_X.numpy()\n",
        "\n",
        "fake_data_init = sample_G(model_G, 3200)\n",
        "plt.scatter(data[:,0], data[:,1], color=\"blue\", label=\"real data\")\n",
        "plt.scatter(fake_data_init[:,0], fake_data_init[:,1], color=\"red\", label=\"G(z) at init\")\n",
        "plt.legend()"
      ],
      "metadata": {
        "colab": {
          "base_uri": "https://localhost:8080/",
          "height": 283
        },
        "id": "4xi1CiSM6VdO",
        "outputId": "2dc91479-7fcf-444e-af84-79ca419a4a3a"
      },
      "execution_count": 6,
      "outputs": [
        {
          "output_type": "execute_result",
          "data": {
            "text/plain": [
              "<matplotlib.legend.Legend at 0x7fdc763bfb10>"
            ]
          },
          "metadata": {},
          "execution_count": 6
        },
        {
          "output_type": "display_data",
          "data": {
            "text/plain": [
              "<Figure size 432x288 with 1 Axes>"
            ],
            "image/png": "[encoded data removed]"
          },
          "metadata": {
            "needs_background": "light"
          }
        }
      ]
    },
    {
      "cell_type": "code",
      "source": [
        "model_D = nn.Sequential(\n",
        "    nn.Linear(2, 20),\n",
        "    nn.ReLU(),\n",
        "    nn.Linear(20, 10),\n",
        "    nn.ReLU(),\n",
        "    nn.Linear(10, 2)\n",
        ")\n",
        "\n",
        "loss_D = nn.SoftmaxLoss()\n",
        "\n",
        "opt_G = kim.optim.Adam(model_G.parameters(), lr=0.01)"
      ],
      "metadata": {
        "id": "6hgQOzcF62h9"
      },
      "execution_count": 7,
      "outputs": []
    },
    {
      "cell_type": "code",
      "source": [
        "def update_G(Z, model_G, model_D, loss_D, opt_G):\n",
        "    fake_X = model_G(Z)\n",
        "    fake_Y = model_D(fake_X)\n",
        "    batch_size = Z.shape[0]\n",
        "    ones = init.ones(batch_size, dtype=\"int32\")\n",
        "    loss = loss_D(fake_Y, ones)\n",
        "    loss.backward()\n",
        "    opt_G.step()\n",
        "\n",
        "opt_D = kim.optim.Adam(model_D.parameters(), lr=0.01)"
      ],
      "metadata": {
        "id": "1zPAY90n7C8N"
      },
      "execution_count": 8,
      "outputs": []
    },
    {
      "cell_type": "code",
      "source": [
        "def update_D(X, Z, model_G, model_D, loss_D, opt_D):\n",
        "    fake_X = model_G(Z).detach()\n",
        "    fake_Y = model_D(fake_X)\n",
        "    real_Y = model_D(X)\n",
        "    assert X.shape[0] == Z.shape[0]\n",
        "    batch_size = X.shape[0]\n",
        "    ones = init.ones(batch_size, dtype=\"int32\")\n",
        "    zeros = init.zeros(batch_size, dtype=\"int32\")\n",
        "    loss = loss_D(real_Y, ones) + loss_D(fake_Y, zeros)\n",
        "    loss.backward()\n",
        "    opt_D.step()"
      ],
      "metadata": {
        "id": "yl5IX6gd7N6L"
      },
      "execution_count": 9,
      "outputs": []
    },
    {
      "cell_type": "code",
      "source": [
        "def train_gan(data, batch_size, num_epochs):\n",
        "    assert data.shape[0] % batch_size == 0\n",
        "    for epoch in range(num_epochs):\n",
        "        begin = (batch_size * epoch) % data.shape[0]\n",
        "        X = data[begin: begin+batch_size, :]\n",
        "        Z = np.random.normal(0, 1, (batch_size, 2))\n",
        "        X = kim.Tensor(X)\n",
        "        Z = kim.Tensor(Z)\n",
        "        update_D(X, Z, model_G, model_D, loss_D, opt_D) \n",
        "        update_G(Z, model_G, model_D, loss_D, opt_G)\n",
        "\n",
        "train_gan(data, 32, 2000)"
      ],
      "metadata": {
        "id": "u64KXJID7bdH"
      },
      "execution_count": 10,
      "outputs": []
    },
    {
      "cell_type": "code",
      "source": [
        "fake_data_trained = sample_G(model_G, 3200)\n",
        "\n",
        "plt.scatter(data[:,0], data[:,1], color=\"blue\", label=\"real data\")\n",
        "plt.scatter(fake_data_init[:,0], fake_data_init[:,1], color=\"red\", label=\"G(z) at init\")\n",
        "plt.scatter(fake_data_trained[:,0], fake_data_trained[:,1], color=\"pink\", label=\"G(z) trained\")\n",
        "\n",
        "plt.legend()"
      ],
      "metadata": {
        "colab": {
          "base_uri": "https://localhost:8080/",
          "height": 283
        },
        "id": "uhBHPfcg-qLf",
        "outputId": "bf6b2f9d-57b4-42a5-fa72-245f65d4f2b8"
      },
      "execution_count": 13,
      "outputs": [
        {
          "output_type": "execute_result",
          "data": {
            "text/plain": [
              "<matplotlib.legend.Legend at 0x7fdc763a52d0>"
            ]
          },
          "metadata": {},
          "execution_count": 13
        },
        {
          "output_type": "display_data",
          "data": {
            "text/plain": [
              "<Figure size 432x288 with 1 Axes>"
            ],
            "image/png": "[encoded data removed]"
          },
          "metadata": {
            "needs_background": "light"
          }
        }
      ]
    },
    {
      "cell_type": "code",
      "source": [
        "gA, gmu = model_G.parameters()\n",
        "A.T @A\n",
        "gA = gA.numpy()\n",
        "gA.T @ gA"
      ],
      "metadata": {
        "colab": {
          "base_uri": "https://localhost:8080/"
        },
        "id": "5MTAqF0V-0Oi",
        "outputId": "d2aec04c-9abc-4fdf-cd55-dcbf84ff86e4"
      },
      "execution_count": 16,
      "outputs": [
        {
          "output_type": "execute_result",
          "data": {
            "text/plain": [
              "array([[1.1364958, 1.96862  ],\n",
              "       [1.96862  , 3.5205662]], dtype=float32)"
            ]
          },
          "metadata": {},
          "execution_count": 16
        }
      ]
    },
    {
      "cell_type": "code",
      "source": [
        "# Modularizing GAN \"Loss\"\n",
        "class GANLoss:\n",
        "    def __init__(self, model_D, opt_D):\n",
        "        self.model_D = model_D\n",
        "        self.opt_D = opt_D\n",
        "        self.loss_D = nn.SoftmaxLoss()\n",
        "\n",
        "    def _update_D(self, real_X, fake_X):\n",
        "        real_Y = self.model_D(real_X)\n",
        "        fake_Y = self.model_D(fake_X.detach())\n",
        "        batch_size = real_X.shape[0]\n",
        "        ones = init.ones(batch_size, dtype=\"int32\")\n",
        "        zeros = init.zeros(batch_size, dtype=\"int32\")\n",
        "        loss = self.loss_D(real_Y, ones) + self.loss_D(fake_Y, zeros)\n",
        "        loss.backward()\n",
        "        self.opt_D.step()\n",
        "\n",
        "    def forward(self, fake_X, real_X):\n",
        "        self._update_D(real_X, fake_X)\n",
        "        fake_Y = self.model_D(fake_X)\n",
        "        batch_size = real_X.shape[0]\n",
        "        ones = init.ones(batch_size, dtype=\"int32\")\n",
        "        loss = self.loss_D(fake_Y, ones)\n",
        "        return loss"
      ],
      "metadata": {
        "id": "grtvqxpg_IcR"
      },
      "execution_count": 21,
      "outputs": []
    },
    {
      "cell_type": "code",
      "source": [
        "model_G = nn.Sequential(nn.Linear(2, 2))\n",
        "opt_G = kim.optim.Adam(model_G.parameters(), lr = 0.01)\n",
        "\n",
        "model_D = nn.Sequential(\n",
        "    nn.Linear(2, 20),\n",
        "    nn.ReLU(),\n",
        "    nn.Linear(20, 10),\n",
        "    nn.ReLU(),\n",
        "    nn.Linear(10, 2)\n",
        ")\n",
        "opt_D = kim.optim.Adam(model_D.parameters(), lr=0.01)\n",
        "gan_loss = GANLoss(model_D, opt_D)\n",
        "\n",
        "\n",
        "def train_gan(data, batch_size, num_epochs):\n",
        "    assert data.shape[0] % batch_size == 0\n",
        "    for epoch in range(num_epochs):\n",
        "        begin = (batch_size * epoch) % data.shape[0]\n",
        "        X = data[begin: begin+batch_size, :]\n",
        "        Z = np.random.normal(0, 1, (batch_size, 2))\n",
        "        X = kim.Tensor(X)\n",
        "        Z = kim.Tensor(Z)\n",
        "        fake_X = model_G(Z)\n",
        "        loss = gan_loss.forward(fake_X, X)\n",
        "        loss.backward()\n",
        "        opt_G.step()\n",
        "\n",
        "train_gan(data, 32, 2000)\n"
      ],
      "metadata": {
        "id": "DeRPO39I_LdT"
      },
      "execution_count": 22,
      "outputs": []
    },
    {
      "cell_type": "code",
      "source": [
        "fake_data_trained = sample_G(model_G, 3200)\n",
        "\n",
        "plt.scatter(data[:,0], data[:,1], color=\"blue\", label=\"real data\")\n",
        "plt.scatter(fake_data_init[:,0], fake_data_init[:,1], color=\"red\", label=\"G(z) at init\")\n",
        "plt.scatter(fake_data_trained[:,0], fake_data_trained[:,1], color=\"pink\", label=\"G(z) trained\")\n",
        "\n",
        "plt.legend()"
      ],
      "metadata": {
        "colab": {
          "base_uri": "https://localhost:8080/",
          "height": 283
        },
        "id": "uQQl7kyG_vWA",
        "outputId": "a5809e6b-697d-4d0e-d215-175812ca80f6"
      },
      "execution_count": 23,
      "outputs": [
        {
          "output_type": "execute_result",
          "data": {
            "text/plain": [
              "<matplotlib.legend.Legend at 0x7fdc76150f50>"
            ]
          },
          "metadata": {},
          "execution_count": 23
        },
        {
          "output_type": "display_data",
          "data": {
            "text/plain": [
              "<Figure size 432x288 with 1 Axes>"
            ],
            "image/png": "[encoded data removed]"
          },
          "metadata": {
            "needs_background": "light"
          }
        }
      ]
    }
  ],
  "metadata": {
    "accelerator": "GPU",
    "colab": {
      "collapsed_sections": [],
      "provenance": []
    },
    "gpuClass": "standard",
    "kernelspec": {
      "display_name": "Python 3",
      "name": "python3"
    },
    "language_info": {
      "name": "python"
    }
  },
  "nbformat": 4,
  "nbformat_minor": 0
}