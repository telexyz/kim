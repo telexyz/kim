{
 "cells": [
  {
   "cell_type": "code",
   "execution_count": null,
   "metadata": {
    "id": "oIQD2NfHV8VU"
   },
   "outputs": [],
   "source": [
    "!git clone https://github.com/telexyz/kim.git\n",
    "%cd kim\n",
    "!pip3 install --upgrade --no-deps git+https://github.com/dlsys10714/mugrade.git\n",
    "!pip3 install pytest numpy numdifftools pybind11 requests\n",
    "# !nvidia-smi"
   ]
  },
  {
   "cell_type": "code",
   "execution_count": null,
   "metadata": {
    "id": "rZyuCtgi0v_X"
   },
   "outputs": [],
   "source": [
    "!git pull\n",
    "!make && python3 -m pytest -v -k \"matmul and cuda\""
   ]
  },
  {
   "cell_type": "markdown",
   "metadata": {
    "id": "o4ZFLWYCfHWB"
   },
   "source": [
    "## Cuda MatMul Performance"
   ]
  },
  {
   "cell_type": "code",
   "execution_count": 53,
   "metadata": {
    "id": "bdOWPgyfY_hp"
   },
   "outputs": [],
   "source": [
    "import numpy as np\n",
    "import torch\n",
    "import sys\n",
    "sys.path.append(\"../\")\n",
    "\n",
    "from kim import backend_ndarray as nd\n",
    "k = 2**11\n",
    "# numpy matmul\n",
    "A_np = np.random.randn(k, k)\n",
    "B_np = np.random.randn(k, k)\n",
    "# cpu matmul\n",
    "A_cpu = nd.array(A_np, device=nd.cpu())\n",
    "B_cpu = nd.array(B_np, device=nd.cpu())\n",
    "# cuda simple matmul\n",
    "A_cuda_simple = nd.array(A_np[:-2,:-2], device=nd.cuda())\n",
    "B_cuda_simple = nd.array(B_np[:-2,:-2], device=nd.cuda())\n",
    "# cuda tiled matmul\n",
    "A_cuda_tiled = nd.array(A_np[:,:-4], device=nd.cuda())\n",
    "B_cuda_tiled = nd.array(B_np[:-4,:], device=nd.cuda())\n",
    "# cuda shared mememory tiled matmul\n",
    "A_cuda_best = nd.array(A_np, device=nd.cuda())\n",
    "B_cuda_best = nd.array(B_np, device=nd.cuda())\n",
    "# torch\n",
    "A_torch = torch.tensor(A_np, dtype=torch.float32, device=torch.device(\"cuda\"))\n",
    "B_torch = torch.tensor(B_np, dtype=torch.float32, device=torch.device(\"cuda\"))"
   ]
  },
  {
   "cell_type": "code",
   "execution_count": null,
   "metadata": {
    "colab": {
     "base_uri": "https://localhost:8080/"
    },
    "id": "vq_CIsvMganx",
    "outputId": "0e896090-ab5c-4e4a-a402-8c5523b1a13c"
   },
   "outputs": [],
   "source": [
    "%%timeit\n",
    "A_np = np.random.randn(k, k)\n",
    "B_np = np.random.randn(k, k)\n",
    "A_np @ B_np"
   ]
  },
  {
   "cell_type": "code",
   "execution_count": 56,
   "metadata": {
    "colab": {
     "base_uri": "https://localhost:8080/"
    },
    "id": "OJRYOTzEcZ59",
    "outputId": "bff7b490-7a96-4de3-e55c-da5765ca97a0"
   },
   "outputs": [
    {
     "name": "stdout",
     "output_type": "stream",
     "text": [
      "226 ms ± 9.83 ms per loop (mean ± std. dev. of 7 runs, 1 loop each)\n"
     ]
    }
   ],
   "source": [
    "%%timeit\n",
    "A_cuda_simple @ B_cuda_simple"
   ]
  },
  {
   "cell_type": "code",
   "execution_count": 62,
   "metadata": {},
   "outputs": [
    {
     "name": "stdout",
     "output_type": "stream",
     "text": [
      "30.2 ms ± 312 µs per loop (mean ± std. dev. of 7 runs, 10 loops each)\n"
     ]
    }
   ],
   "source": [
    "%%timeit\n",
    "A_cuda_tiled = nd.array(A_np[:,:-4], device=nd.cuda())\n",
    "B_cuda_tiled = nd.array(B_np[:-4,:], device=nd.cuda())\n",
    "A_cuda_tiled @ B_cuda_tiled"
   ]
  },
  {
   "cell_type": "code",
   "execution_count": 61,
   "metadata": {
    "colab": {
     "base_uri": "https://localhost:8080/"
    },
    "id": "fxKbU9VYhaEP",
    "outputId": "3c135cb5-5d3f-4f5c-aba6-11cd13afbf11"
   },
   "outputs": [
    {
     "name": "stdout",
     "output_type": "stream",
     "text": [
      "20.9 ms ± 800 µs per loop (mean ± std. dev. of 7 runs, 10 loops each)\n"
     ]
    }
   ],
   "source": [
    "%%timeit\n",
    "A_cuda_best = nd.array(A_np, device=nd.cuda())\n",
    "B_cuda_best = nd.array(B_np, device=nd.cuda())\n",
    "A_cuda_best @ B_cuda_best"
   ]
  },
  {
   "cell_type": "code",
   "execution_count": 60,
   "metadata": {},
   "outputs": [
    {
     "name": "stdout",
     "output_type": "stream",
     "text": [
      "9.99 ms ± 2.06 ms per loop (mean ± std. dev. of 7 runs, 10 loops each)\n"
     ]
    }
   ],
   "source": [
    "%%timeit\n",
    "A_torch = torch.tensor(A_np, dtype=torch.float32, device=torch.device(\"cuda\"))\n",
    "B_torch = torch.tensor(B_np, dtype=torch.float32, device=torch.device(\"cuda\"))\n",
    "A_torch @ B_torch"
   ]
  }
 ],
 "metadata": {
  "accelerator": "GPU",
  "colab": {
   "collapsed_sections": [],
   "provenance": []
  },
  "gpuClass": "standard",
  "kernelspec": {
   "display_name": "Python 3 (ipykernel)",
   "language": "python",
   "name": "python3"
  },
  "language_info": {
   "codemirror_mode": {
    "name": "ipython",
    "version": 3
   },
   "file_extension": ".py",
   "mimetype": "text/x-python",
   "name": "python",
   "nbconvert_exporter": "python",
   "pygments_lexer": "ipython3",
   "version": "3.8.10"
  }
 },
 "nbformat": 4,
 "nbformat_minor": 1
}
